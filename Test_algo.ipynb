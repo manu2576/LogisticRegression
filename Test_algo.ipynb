{
 "cells": [
  {
   "metadata": {
    "ExecuteTime": {
     "end_time": "2024-08-13T11:51:02.482726Z",
     "start_time": "2024-08-13T11:51:02.473929Z"
    }
   },
   "cell_type": "code",
   "source": [
    "import numpy as np\n",
    "from sklearn.linear_model import LogisticRegression\n",
    "from sklearn.model_selection import train_test_split\n",
    "from sklearn import datasets\n",
    "import sys\n",
    "\n",
    "sys.path.append('/Users/mnu/Desktop/machine learning/Pandas and numpy/models/algorithms/LogisticRegression')\n",
    "from LogisticRegression import LogisticRegression as LR"
   ],
   "id": "79a3f094642a1317",
   "outputs": [],
   "execution_count": 235
  },
  {
   "metadata": {
    "ExecuteTime": {
     "end_time": "2024-08-13T11:51:02.824829Z",
     "start_time": "2024-08-13T11:51:02.804100Z"
    }
   },
   "cell_type": "code",
   "source": "X,y = datasets.load_breast_cancer().data , datasets.load_breast_cancer().target",
   "id": "1cd5e5dfe0b9c425",
   "outputs": [],
   "execution_count": 236
  },
  {
   "metadata": {
    "ExecuteTime": {
     "end_time": "2024-08-13T11:51:03.137605Z",
     "start_time": "2024-08-13T11:51:03.107146Z"
    }
   },
   "cell_type": "code",
   "source": [
    "X_train, X_test, y_train, y_test = train_test_split(X, y, test_size=0.8, random_state=1)\n",
    "model = LR()\n",
    "model.fit(X_train, y_train)\n",
    "y_pred = model._predict(X_test)"
   ],
   "id": "da2ed8b54b45b804",
   "outputs": [],
   "execution_count": 237
  },
  {
   "metadata": {
    "ExecuteTime": {
     "end_time": "2024-08-13T11:51:03.438176Z",
     "start_time": "2024-08-13T11:51:03.435741Z"
    }
   },
   "cell_type": "code",
   "source": [
    "def Accuracy(y_true, y_pred):\n",
    "    return np.sum(y_true == y_pred) / len(y_true)\n",
    "print(Accuracy(y_test,y_pred))"
   ],
   "id": "38e7d97b9f19eb05",
   "outputs": [
    {
     "name": "stdout",
     "output_type": "stream",
     "text": [
      "0.9057017543859649\n"
     ]
    }
   ],
   "execution_count": 238
  }
 ],
 "metadata": {
  "kernelspec": {
   "display_name": "Python 3",
   "language": "python",
   "name": "python3"
  },
  "language_info": {
   "codemirror_mode": {
    "name": "ipython",
    "version": 2
   },
   "file_extension": ".py",
   "mimetype": "text/x-python",
   "name": "python",
   "nbconvert_exporter": "python",
   "pygments_lexer": "ipython2",
   "version": "2.7.6"
  }
 },
 "nbformat": 4,
 "nbformat_minor": 5
}
