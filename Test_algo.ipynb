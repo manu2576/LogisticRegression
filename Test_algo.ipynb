{
 "cells": [
  {
   "metadata": {
    "ExecuteTime": {
     "end_time": "2024-08-16T07:36:01.767094Z",
     "start_time": "2024-08-16T07:36:01.763016Z"
    }
   },
   "cell_type": "code",
   "source": [
    "import numpy as np\n",
    "from sklearn.linear_model import LogisticRegression\n",
    "from sklearn.model_selection import train_test_split\n",
    "from sklearn.preprocessing import PolynomialFeatures\n",
    "from sklearn import datasets\n",
    "import sys\n",
    "sys.path.append('/Users/mnu/Desktop/machine learning/Pandas and numpy/models/algorithms/LogisticRegression')\n",
    "from LogisticRegression import LogisticRegression as LR"
   ],
   "id": "79a3f094642a1317",
   "outputs": [],
   "execution_count": 54
  },
  {
   "metadata": {
    "ExecuteTime": {
     "end_time": "2024-08-16T07:37:27.857389Z",
     "start_time": "2024-08-16T07:37:27.853657Z"
    }
   },
   "cell_type": "code",
   "source": [
    "def Accuracy(y_true, y_pred):\n",
    "    return np.sum(y_true == y_pred) / len(y_true)"
   ],
   "id": "1af9b6f194737d16",
   "outputs": [],
   "execution_count": 76
  },
  {
   "metadata": {
    "ExecuteTime": {
     "end_time": "2024-08-16T07:38:55.047339Z",
     "start_time": "2024-08-16T07:38:55.030964Z"
    }
   },
   "cell_type": "code",
   "source": [
    "X,y = datasets.load_breast_cancer().data , datasets.load_breast_cancer().target\n",
    "X_train, X_test, y_train, y_test = train_test_split(X, y, test_size=0.8,random_state=1)"
   ],
   "id": "1cd5e5dfe0b9c425",
   "outputs": [],
   "execution_count": 93
  },
  {
   "metadata": {
    "ExecuteTime": {
     "end_time": "2024-08-16T07:39:39.556067Z",
     "start_time": "2024-08-16T07:39:39.435262Z"
    }
   },
   "cell_type": "code",
   "source": [
    "# LR made by me\n",
    "model = LR(lr = 0.0001, n = 10000)\n",
    "model.fit(X_train, y_train)\n",
    "y_pred = model._predict(X_test)"
   ],
   "id": "da2ed8b54b45b804",
   "outputs": [],
   "execution_count": 108
  },
  {
   "metadata": {
    "ExecuteTime": {
     "end_time": "2024-08-16T07:39:39.770060Z",
     "start_time": "2024-08-16T07:39:39.750451Z"
    }
   },
   "cell_type": "code",
   "source": "print(Accuracy(y_test,y_pred))",
   "id": "38e7d97b9f19eb05",
   "outputs": [
    {
     "name": "stdout",
     "output_type": "stream",
     "text": [
      "0.9254385964912281\n"
     ]
    }
   ],
   "execution_count": 109
  },
  {
   "metadata": {},
   "cell_type": "markdown",
   "source": "now applying sklearn logistic regression model and see the differences",
   "id": "5c322f96dd22c566"
  },
  {
   "metadata": {
    "ExecuteTime": {
     "end_time": "2024-08-16T07:39:41.734196Z",
     "start_time": "2024-08-16T07:39:41.663018Z"
    }
   },
   "cell_type": "code",
   "source": [
    "#Sklearn class logistic regression\n",
    "model2 = LogisticRegression(max_iter=10000)\n",
    "model2.fit(X_train, y_train)\n",
    "y_pred2 = model2.predict(X_test)"
   ],
   "id": "1421a2ffe98f4255",
   "outputs": [],
   "execution_count": 110
  },
  {
   "metadata": {
    "ExecuteTime": {
     "end_time": "2024-08-16T07:39:42.591398Z",
     "start_time": "2024-08-16T07:39:42.588185Z"
    }
   },
   "cell_type": "code",
   "source": "print(Accuracy(y_test,y_pred2))",
   "id": "fd3dd730e4d79908",
   "outputs": [
    {
     "name": "stdout",
     "output_type": "stream",
     "text": [
      "0.9320175438596491\n"
     ]
    }
   ],
   "execution_count": 111
  },
  {
   "metadata": {},
   "cell_type": "raw",
   "source": "now lets apply a logistic regression and polynomial logistic regression model for multinomial lable",
   "id": "5a8ef42177bb0871"
  },
  {
   "metadata": {
    "ExecuteTime": {
     "end_time": "2024-08-16T07:42:41.612311Z",
     "start_time": "2024-08-16T07:42:41.604141Z"
    }
   },
   "cell_type": "code",
   "source": [
    "#Sklearn polynomial logistic regression\n",
    "X,y = datasets.load_iris().data , datasets.load_iris().target\n",
    "X = PolynomialFeatures(degree = 3).fit_transform(X)\n",
    "X_train, X_test, y_train, y_test = train_test_split(X, y, test_size=0.8,random_state=1)"
   ],
   "id": "5a1e6f9c321d9e8c",
   "outputs": [],
   "execution_count": 119
  },
  {
   "metadata": {
    "ExecuteTime": {
     "end_time": "2024-08-16T07:42:41.927702Z",
     "start_time": "2024-08-16T07:42:41.885794Z"
    }
   },
   "cell_type": "code",
   "source": [
    "model3 = LogisticRegression(max_iter=10000)\n",
    "model3.fit(X_train, y_train)\n",
    "y_pred3 = model3.predict(X_test)"
   ],
   "id": "e57cb787c98872ad",
   "outputs": [],
   "execution_count": 120
  },
  {
   "metadata": {
    "ExecuteTime": {
     "end_time": "2024-08-16T07:42:42.109288Z",
     "start_time": "2024-08-16T07:42:42.106030Z"
    }
   },
   "cell_type": "code",
   "source": "print(Accuracy(y_test,y_pred3))",
   "id": "990e143e4255b2f0",
   "outputs": [
    {
     "name": "stdout",
     "output_type": "stream",
     "text": [
      "0.925\n"
     ]
    }
   ],
   "execution_count": 121
  },
  {
   "metadata": {
    "ExecuteTime": {
     "end_time": "2024-08-16T07:42:42.496231Z",
     "start_time": "2024-08-16T07:42:42.456307Z"
    }
   },
   "cell_type": "code",
   "source": [
    "model4 = LogisticRegression(multi_class = 'multinomial', max_iter=10000)\n",
    "model4.fit(X_train, y_train)\n",
    "y_pred4 = model4.predict(X_test)"
   ],
   "id": "74c770518fc32ef8",
   "outputs": [],
   "execution_count": 122
  },
  {
   "metadata": {
    "ExecuteTime": {
     "end_time": "2024-08-16T07:42:42.824005Z",
     "start_time": "2024-08-16T07:42:42.820999Z"
    }
   },
   "cell_type": "code",
   "source": "print(Accuracy(y_test,y_pred4))",
   "id": "f41c727d0d0982ae",
   "outputs": [
    {
     "name": "stdout",
     "output_type": "stream",
     "text": [
      "0.925\n"
     ]
    }
   ],
   "execution_count": 123
  }
 ],
 "metadata": {
  "kernelspec": {
   "display_name": "Python 3",
   "language": "python",
   "name": "python3"
  },
  "language_info": {
   "codemirror_mode": {
    "name": "ipython",
    "version": 2
   },
   "file_extension": ".py",
   "mimetype": "text/x-python",
   "name": "python",
   "nbconvert_exporter": "python",
   "pygments_lexer": "ipython2",
   "version": "2.7.6"
  }
 },
 "nbformat": 4,
 "nbformat_minor": 5
}
